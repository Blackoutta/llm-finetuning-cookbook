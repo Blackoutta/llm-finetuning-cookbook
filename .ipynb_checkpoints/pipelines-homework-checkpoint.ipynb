{
 "cells": [
  {
   "cell_type": "markdown",
   "id": "b9c38e82-e8f6-4af0-b257-b46f446aa249",
   "metadata": {
    "tags": []
   },
   "source": [
    "## 准备工作\n",
    "- 设置模型下载路径\n",
    "- 启动学术加速"
   ]
  },
  {
   "cell_type": "code",
   "execution_count": null,
   "id": "913a591c-c60c-44cd-95b8-020735273aa4",
   "metadata": {},
   "outputs": [],
   "source": [
    "import os\n",
    "# 设置模型路径，下载到autodl的临时数据盘\n",
    "os.environ['HF_HOME'] = '/root/autodl-temp/hf'\n",
    "os.environ['HF_HUB_CACHE'] = '/root/autodl-tmp/hf/hub'\n",
    "\n",
    "# 启动autodl学术加速\n",
    "import subprocess\n",
    "import os\n",
    "\n",
    "result = subprocess.run('bash -c \"source /etc/network_turbo && env | grep proxy\"', shell=True, capture_output=True, text=True)\n",
    "output = result.stdout\n",
    "for line in output.splitlines():\n",
    "    if '=' in line:\n",
    "        var, value = line.split('=', 1)\n",
    "        os.environ[var] = value"
   ]
  },
  {
   "cell_type": "code",
   "execution_count": 3,
   "id": "f9f43492-610b-485e-9288-0f4b425f266a",
   "metadata": {},
   "outputs": [],
   "source": [
    "from transformers import pipeline"
   ]
  },
  {
   "attachments": {},
   "cell_type": "markdown",
   "id": "62f25326-7e12-4b1b-bb2e-fffd9860c7c5",
   "metadata": {},
   "source": [
    "### NLP - Text Classification - 文本审核\n",
    "模型主页：https://huggingface.co/KoalaAI/Text-Moderation"
   ]
  },
  {
   "cell_type": "code",
   "execution_count": 4,
   "id": "9684ec5f-9460-4876-9883-69380eacb0e7",
   "metadata": {},
   "outputs": [],
   "source": [
    "pipe = pipeline(task=\"sentiment-analysis\", model=\"KoalaAI/Text-Moderation\")"
   ]
  },
  {
   "cell_type": "code",
   "execution_count": 5,
   "id": "3686758b-d7f7-4df9-889d-e63af47a138a",
   "metadata": {},
   "outputs": [
    {
     "data": {
      "text/plain": [
       "[{'label': 'H', 'score': 0.6020551323890686},\n",
       " {'label': 'V', 'score': 0.3086363971233368},\n",
       " {'label': 'S', 'score': 0.370002806186676},\n",
       " {'label': 'SH', 'score': 0.31591054797172546}]"
      ]
     },
     "execution_count": 5,
     "metadata": {},
     "output_type": "execute_result"
    }
   ],
   "source": [
    "# 下面的例子可以分别检测出：仇恨、暴力、性、自残的相关内容\n",
    "text_list = [\n",
    "    \"I hate all Yankees!\",\n",
    "    \"If you don't turn off your phone in a movie theater, I swear I'll take it and shovel it into your fucking ass!\",\n",
    "    \"hey babe, wanna come in and have a good night? We have loads of good girls waiting...\",\n",
    "    \"I swear if you come any closer I'll just jump!\",\n",
    "]\n",
    "\n",
    "pipe(text_list)"
   ]
  },
  {
   "cell_type": "markdown",
   "id": "6d5a27fe-87d0-45fc-a31a-9a8db23e290a",
   "metadata": {},
   "source": [
    "### NLP - Token Classification - 医学领域命名实体分类\n",
    "模型主页：https://huggingface.co/Clinical-AI-Apollo/Medical-NER"
   ]
  },
  {
   "cell_type": "code",
   "execution_count": 6,
   "id": "4f1ed125-f9ed-42d9-b102-dbc3172baefd",
   "metadata": {},
   "outputs": [
    {
     "name": "stderr",
     "output_type": "stream",
     "text": [
      "Asking to truncate to max_length but no maximum length is provided and the model has no predefined maximum length. Default to no truncation.\n"
     ]
    },
    {
     "data": {
      "text/plain": [
       "[{'entity_group': 'AGE',\n",
       "  'score': 0.93260413,\n",
       "  'word': '22-year-old',\n",
       "  'start': 3,\n",
       "  'end': 15},\n",
       " {'entity_group': 'SEX',\n",
       "  'score': 0.76922107,\n",
       "  'word': 'male',\n",
       "  'start': 15,\n",
       "  'end': 20},\n",
       " {'entity_group': 'DISEASE_DISORDER',\n",
       "  'score': 0.52708817,\n",
       "  'word': 'deviated',\n",
       "  'start': 53,\n",
       "  'end': 62},\n",
       " {'entity_group': 'SIGN_SYMPTOM',\n",
       "  'score': 0.33194998,\n",
       "  'word': 'nasal',\n",
       "  'start': 62,\n",
       "  'end': 68},\n",
       " {'entity_group': 'DISEASE_DISORDER',\n",
       "  'score': 0.43514776,\n",
       "  'word': 'septum',\n",
       "  'start': 68,\n",
       "  'end': 75},\n",
       " {'entity_group': 'SIGN_SYMPTOM',\n",
       "  'score': 0.65501827,\n",
       "  'word': 'difficulty in breathing',\n",
       "  'start': 89,\n",
       "  'end': 113},\n",
       " {'entity_group': 'DETAILED_DESCRIPTION',\n",
       "  'score': 0.6294477,\n",
       "  'word': 'minimally invasive',\n",
       "  'start': 131,\n",
       "  'end': 150},\n",
       " {'entity_group': 'THERAPEUTIC_PROCEDURE',\n",
       "  'score': 0.54569775,\n",
       "  'word': 'surgery',\n",
       "  'start': 150,\n",
       "  'end': 158},\n",
       " {'entity_group': 'SIGN_SYMPTOM',\n",
       "  'score': 0.39747745,\n",
       "  'word': 'breathing',\n",
       "  'start': 176,\n",
       "  'end': 186},\n",
       " {'entity_group': 'DETAILED_DESCRIPTION',\n",
       "  'score': 0.26369965,\n",
       "  'word': 'daily',\n",
       "  'start': 214,\n",
       "  'end': 220},\n",
       " {'entity_group': 'MEDICATION',\n",
       "  'score': 0.7032222,\n",
       "  'word': 'corticosteroids',\n",
       "  'start': 227,\n",
       "  'end': 243},\n",
       " {'entity_group': 'SIGN_SYMPTOM',\n",
       "  'score': 0.38970998,\n",
       "  'word': 'rhinitis',\n",
       "  'start': 256,\n",
       "  'end': 265}]"
      ]
     },
     "execution_count": 6,
     "metadata": {},
     "output_type": "execute_result"
    }
   ],
   "source": [
    "pipe = pipeline(\"token-classification\", model=\"Clinical-AI-Apollo/Medical-NER\", aggregation_strategy='simple')\n",
    "\"\"\"\n",
    "22岁的男孩曾经罹患鼻中隔偏曲，这使他的呼吸变得困难，后来他通过我们的微创手术康复了正常的呼吸，但是还是需要日常使用糖皮质激素来缓解鼻炎。\n",
    "\"\"\"\n",
    "result = pipe(\"The 22-year-old male patient previously suffered from deviated nasal septum, which caused difficulty in breathing. He underwent our minimally invasive surgery to restore normal breathing. However, he still requires daily use of corticosteroids to alleviate rhinitis.\")\n",
    "result"
   ]
  },
  {
   "cell_type": "markdown",
   "id": "369dda97-bd1a-4cb0-9636-47c2308c6289",
   "metadata": {},
   "source": [
    "### NLP - Question Answering - 基于上下文的问答\n",
    "\n",
    "模型主页：https://huggingface.co/deepset/roberta-base-squad2"
   ]
  },
  {
   "cell_type": "code",
   "execution_count": 7,
   "id": "a5281b0b-6b57-4884-92e1-cc2677987360",
   "metadata": {},
   "outputs": [],
   "source": [
    "question_answerer = pipeline(task=\"question-answering\", model='deepset/roberta-base-squad2')"
   ]
  },
  {
   "cell_type": "code",
   "execution_count": 8,
   "id": "6c8c48c2-42cb-4e70-9037-ebbda9da3c91",
   "metadata": {},
   "outputs": [
    {
     "name": "stdout",
     "output_type": "stream",
     "text": [
      "score: 0.924, start: 33, end: 36, answer: PHP\n"
     ]
    }
   ],
   "source": [
    "preds = question_answerer(\n",
    "    question=\"What is the best programming language?\",\n",
    "    context=\"The best programming language is PHP\",\n",
    ")\n",
    "print(\n",
    "    f\"score: {round(preds['score'], 4)}, start: {preds['start']}, end: {preds['end']}, answer: {preds['answer']}\"\n",
    ")"
   ]
  },
  {
   "cell_type": "markdown",
   "id": "d995cb85-ab8f-4b28-9413-1a83fa3e4c4d",
   "metadata": {},
   "source": [
    "### NLP - Text Summarization - 文本总结\n",
    "\n",
    "模型主页：https://huggingface.co/facebook/bart-large-cnn"
   ]
  },
  {
   "cell_type": "code",
   "execution_count": 9,
   "id": "8e028f36-2b50-4ae3-8dce-2f0ac685e8fb",
   "metadata": {},
   "outputs": [],
   "source": [
    "summarizer = pipeline(task=\"summarization\",\n",
    "                      model=\"facebook/bart-large-cnn\",\n",
    "                      min_length=8,\n",
    "                      max_length=32,\n",
    ")"
   ]
  },
  {
   "cell_type": "code",
   "execution_count": 10,
   "id": "8c760bbf-2ae4-4f84-bd5e-32c30ee6bd78",
   "metadata": {},
   "outputs": [
    {
     "data": {
      "text/plain": [
       "[{'summary_text': 'The Transformer is the first sequence transduction model based entirely on attention. It replaces the recurrent layers most commonly used in encoder-decoder'}]"
      ]
     },
     "execution_count": 10,
     "metadata": {},
     "output_type": "execute_result"
    }
   ],
   "source": [
    "summarizer(\n",
    "    \"\"\"\n",
    "    In this work, we presented the Transformer, the first sequence transduction model based entirely on attention, \n",
    "    replacing the recurrent layers most commonly used in encoder-decoder architectures with multi-headed self-attention. \n",
    "    For translation tasks, the Transformer can be trained significantly faster than architectures based on recurrent or convolutional layers. \n",
    "    On both WMT 2014 English-to-German and WMT 2014 English-to-French translation tasks, we achieve a new state of the art. \n",
    "    In the former task our best model outperforms even all previously reported ensembles.\n",
    "    \"\"\"\n",
    ")\n"
   ]
  },
  {
   "cell_type": "markdown",
   "id": "63882ee0-7bff-402e-90f2-cf0273f2265e",
   "metadata": {},
   "source": [
    "### Audio - Audio Classification - 音频分类\n",
    "模型主页：https://huggingface.co/MIT/ast-finetuned-audioset-10-10-0.4593"
   ]
  },
  {
   "cell_type": "markdown",
   "id": "e4d4c1e9-8a67-4c72-8dce-ab326e0bc3b6",
   "metadata": {},
   "source": [
    "#### 前置依赖包安装\n",
    "\n",
    "建议在命令行安装必要的音频数据处理包: ffmpeg\n",
    "\n",
    "```bash\n",
    "apt update & apt upgrade \\\n",
    "apt install -y ffmpeg \\\n",
    "pip install ffmpeg ffmpeg-python \\\n",
    "```"
   ]
  },
  {
   "cell_type": "code",
   "execution_count": null,
   "id": "0b060b71-ac49-4efb-b4a0-18d07f12695d",
   "metadata": {},
   "outputs": [],
   "source": [
    "# 安装依赖\n",
    "!pip install datasets\n",
    "!pip install soundfile\n",
    "!pip install librosa\n",
    "\n",
    "!pip install kenlm\n",
    "!pip install pyctcdecode"
   ]
  },
  {
   "cell_type": "code",
   "execution_count": 13,
   "id": "2e1f8a8d-75eb-49ab-9353-6c9d1f384cac",
   "metadata": {},
   "outputs": [
    {
     "name": "stderr",
     "output_type": "stream",
     "text": [
      "/root/miniconda3/lib/python3.10/site-packages/transformers/audio_utils.py:296: UserWarning: At least one mel filter has all zero values. The value for `num_mel_filters` (128) may be set too high. Or, the value for `num_frequency_bins` (256) may be set too low.\n",
      "  warnings.warn(\n"
     ]
    }
   ],
   "source": [
    "classifier = pipeline(task=\"audio-classification\", model=\"MIT/ast-finetuned-audioset-10-10-0.4593\")"
   ]
  },
  {
   "cell_type": "code",
   "execution_count": 14,
   "id": "166599f0-1cc2-4ea4-bba6-696b077a605b",
   "metadata": {},
   "outputs": [],
   "source": [
    "# 下载一套data set\n",
    "from datasets import load_dataset\n",
    "dataset = load_dataset(\"hf-internal-testing/librispeech_asr_demo\", \"clean\", split=\"validation\", trust_remote_code=True)\n",
    "dataset = dataset.sort(\"id\")"
   ]
  },
  {
   "cell_type": "code",
   "execution_count": 15,
   "id": "204a4159-d14d-4623-8340-93d15abcc549",
   "metadata": {},
   "outputs": [
    {
     "name": "stdout",
     "output_type": "stream",
     "text": [
      "[{'score': 0.8412, 'label': 'Speech'}, {'score': 0.0248, 'label': 'Speech synthesizer'}, {'score': 0.0196, 'label': 'Narration, monologue'}, {'score': 0.0102, 'label': 'Male speech, man speaking'}, {'score': 0.0069, 'label': 'Gasp'}]\n",
      "[{'score': 0.8907, 'label': 'Speech'}, {'score': 0.0132, 'label': 'Speech synthesizer'}, {'score': 0.0105, 'label': 'Narration, monologue'}, {'score': 0.0082, 'label': 'Male speech, man speaking'}, {'score': 0.0079, 'label': 'Single-lens reflex camera'}]\n",
      "[{'score': 0.7512, 'label': 'Speech'}, {'score': 0.1611, 'label': 'Speech synthesizer'}, {'score': 0.0499, 'label': 'Narration, monologue'}, {'score': 0.0085, 'label': 'Male speech, man speaking'}, {'score': 0.0027, 'label': 'Inside, small room'}]\n"
     ]
    }
   ],
   "source": [
    "for i in range(3):\n",
    "    input = dataset[i]['audio']['array']\n",
    "    preds = classifier(input)\n",
    "    preds = [{\"score\": round(pred[\"score\"], 4), \"label\": pred[\"label\"]} for pred in preds]\n",
    "    print(preds)"
   ]
  },
  {
   "cell_type": "markdown",
   "id": "e073cd1f-ba16-40a7-a029-bbd5e2a53dee",
   "metadata": {},
   "source": [
    "### Audio - Automatic speech recognition（ASR）- 自动语音识别\n",
    "\n",
    "模型主页：https://huggingface.co/jonatasgrosman/wav2vec2-large-xlsr-53-english"
   ]
  },
  {
   "cell_type": "code",
   "execution_count": null,
   "id": "68d14f8c-1571-4889-abd4-8fde09dc610a",
   "metadata": {},
   "outputs": [],
   "source": [
    "# 使用 `model` 参数指定模型\n",
    "transcriber = pipeline(task=\"automatic-speech-recognition\", model=\"jonatasgrosman/wav2vec2-large-xlsr-53-english\")"
   ]
  },
  {
   "cell_type": "code",
   "execution_count": 17,
   "id": "316ebe18-9c8e-4ded-96b7-751304aa9122",
   "metadata": {},
   "outputs": [
    {
     "name": "stdout",
     "output_type": "stream",
     "text": [
      "{'text': 'mr quilter is the apostle of the middle classes and we are glad to welcome his gospel'}\n",
      "{'text': \"nor is mr quilter's manner less interesting than his matter\"}\n",
      "{'text': 'he tells us that at this festive season of the year with christmas and roast beef looming before us symbolies drawn from eating and its results occur most readily to the mind'}\n"
     ]
    }
   ],
   "source": [
    "for i in range(3):\n",
    "    input = dataset[i]['audio']['array']\n",
    "    preds = transcriber(input)\n",
    "    print(preds)"
   ]
  },
  {
   "cell_type": "markdown",
   "id": "cf0bf9f4-6413-409b-968e-f03ca0c88367",
   "metadata": {},
   "source": [
    "### Computer Vision - Image Classificaiton - 图像分类\n",
    "\n",
    "模型主页：https://huggingface.co/microsoft/resnet-50"
   ]
  },
  {
   "cell_type": "markdown",
   "id": "1d025fdb-dda6-42b8-8ac0-a5f3c46ad202",
   "metadata": {},
   "source": [
    "![bc](data/Border_Collie_600.jpg)"
   ]
  },
  {
   "cell_type": "code",
   "execution_count": 18,
   "id": "98ca9736-10b9-45b0-a3e3-925f153bab57",
   "metadata": {},
   "outputs": [],
   "source": [
    "classifier = pipeline(task=\"image-classification\", model='microsoft/resnet-50')"
   ]
  },
  {
   "cell_type": "code",
   "execution_count": 19,
   "id": "d8a41647-e8db-4d29-9dac-06c3c145acaa",
   "metadata": {},
   "outputs": [
    {
     "name": "stdout",
     "output_type": "stream",
     "text": [
      "{'score': 0.7364, 'label': 'Border collie'}\n",
      "{'score': 0.1358, 'label': 'collie'}\n",
      "{'score': 0.1031, 'label': 'Shetland sheepdog, Shetland sheep dog, Shetland'}\n",
      "{'score': 0.0022, 'label': 'Cardigan, Cardigan Welsh corgi'}\n",
      "{'score': 0.0014, 'label': 'Norwegian elkhound, elkhound'}\n"
     ]
    }
   ],
   "source": [
    "preds = classifier('data/Border_Collie_600.jpg')\n",
    "preds = [{\"score\": round(pred[\"score\"], 4), \"label\": pred[\"label\"]} for pred in preds]\n",
    "print(*preds, sep=\"\\n\")"
   ]
  },
  {
   "cell_type": "markdown",
   "id": "8118a561-3dc9-4693-8c3b-3e29c37b4d71",
   "metadata": {},
   "source": [
    "### Computer Vision - Object Detection - 目标检测\n",
    "\n",
    "模型主页：https://huggingface.co/microsoft/table-transformer-detection\n",
    "这是一个专门用来做表格检测的模型，高端用法在这里：https://github.com/NielsRogge/Transformers-Tutorials/blob/master/Table%20Transformer/Inference_with_Table_Transformer_(TATR)_for_parsing_tables.ipynb"
   ]
  },
  {
   "cell_type": "code",
   "execution_count": null,
   "id": "c3401126-756b-4394-930c-c833c1f574b0",
   "metadata": {
    "scrolled": true
   },
   "outputs": [],
   "source": [
    "detector = pipeline(task=\"object-detection\", model='microsoft/table-transformer-detection')"
   ]
  },
  {
   "cell_type": "code",
   "execution_count": 21,
   "id": "32dc65d4-3868-4d10-a433-9f50832e8e68",
   "metadata": {},
   "outputs": [
    {
     "data": {
      "text/plain": [
       "[{'score': 0.6732780337333679,\n",
       "  'label': 'table',\n",
       "  'box': {'xmin': 13, 'ymin': 71, 'xmax': 641, 'ymax': 415}}]"
      ]
     },
     "execution_count": 21,
     "metadata": {},
     "output_type": "execute_result"
    }
   ],
   "source": [
    "preds = detector('data/example_excel_file.png')\n",
    "preds"
   ]
  },
  {
   "cell_type": "code",
   "execution_count": null,
   "id": "8f8f515f-f8e3-494a-984a-6d7b2ceedba3",
   "metadata": {},
   "outputs": [],
   "source": []
  }
 ],
 "metadata": {
  "kernelspec": {
   "display_name": "Python 3 (ipykernel)",
   "language": "python",
   "name": "python3"
  },
  "language_info": {
   "codemirror_mode": {
    "name": "ipython",
    "version": 3
   },
   "file_extension": ".py",
   "mimetype": "text/x-python",
   "name": "python",
   "nbconvert_exporter": "python",
   "pygments_lexer": "ipython3",
   "version": "3.10.8"
  }
 },
 "nbformat": 4,
 "nbformat_minor": 5
}
