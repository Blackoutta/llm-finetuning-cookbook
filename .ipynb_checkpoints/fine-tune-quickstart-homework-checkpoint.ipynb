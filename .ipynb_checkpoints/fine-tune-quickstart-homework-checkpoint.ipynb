{
 "cells": [
  {
   "cell_type": "markdown",
   "id": "61828934-01da-4fc3-9e75-8d754c25dfbc",
   "metadata": {},
   "source": [
    "## Homework: 使用完整的 YelpReviewFull 数据集训练，看 Acc 最高能到多少"
   ]
  },
  {
   "cell_type": "markdown",
   "id": "1d1fab85-7513-4496-a298-45a9e3a1d0bc",
   "metadata": {},
   "source": [
    "## 全量测试集运行结果"
   ]
  },
  {
   "cell_type": "markdown",
   "id": "8f84bf02-bc53-4e14-a804-a9a4a9c0f1f2",
   "metadata": {},
   "source": [
    "```json\n",
    "{\n",
    "    \"eval_loss\": 0.7691748142242432, \n",
    "    \"eval_accuracy\": 0.69276, \n",
    "    \"eval_runtime\": 228.3275, \n",
    "    \"eval_samples_per_second\": 218.984, \n",
    "    \"eval_steps_per_second\": 13.686, \n",
    "    \"epoch\": 3.0}\n",
    "```"
   ]
  },
  {
   "cell_type": "markdown",
   "id": "ddb7ac78-fa69-4e6a-9c47-6614a7ef9fd2",
   "metadata": {},
   "source": [
    "## 代码说明\n",
    "因为是用的云服务器，所以不能一直开着Jupyter，就写了python脚本+nohup运行。运行完后的结果单独写入了文件。\n",
    "\n",
    "下面是运行代码："
   ]
  },
  {
   "cell_type": "code",
   "execution_count": null,
   "id": "4d23def5-e01e-43ef-9f2c-343794791329",
   "metadata": {},
   "outputs": [],
   "source": [
    "import subprocess\n",
    "import os\n",
    "from datasets import load_dataset\n",
    "import random\n",
    "import pandas as pd\n",
    "import datasets\n",
    "from IPython.display import display, HTML\n",
    "from transformers import AutoTokenizer\n",
    "\n",
    "# 设置模型路径，下载到autodl的临时数据盘\n",
    "os.environ['HF_HOME'] = '/root/autodl-tmp/hf'\n",
    "os.environ['HF_HUB_CACHE'] = '/root/autodl-tmp/hf/hub'\n",
    "os.environ['HF_ENDPOINT'] = 'https://hf-mirror.com/'\n",
    "\n",
    "# 加载数据集\n",
    "print('loading datasets...')\n",
    "dataset = load_dataset(\"yelp_review_full\")\n",
    "print('data sets loaded!')\n",
    "\n",
    "# 简单预处理数据集\n",
    "tokenizer = AutoTokenizer.from_pretrained(\"bert-base-cased\")\n",
    "\n",
    "def tokenize_function(examples):\n",
    "    return tokenizer(examples[\"text\"], padding=\"max_length\", truncation=True)\n",
    "\n",
    "print('mapping datasets...')\n",
    "tokenized_datasets = dataset.map(tokenize_function, batched=True)\n",
    "print('mapping done!')\n",
    "\n",
    "# 使用全量数据集\n",
    "full_train_dataset = tokenized_datasets[\"train\"].shuffle(seed=42)\n",
    "full_eval_dataset = tokenized_datasets[\"test\"].shuffle(seed=42)\n",
    "\n",
    "from transformers import AutoModelForSequenceClassification\n",
    "from transformers import TrainingArguments\n",
    "import numpy as np\n",
    "import evaluate\n",
    "from transformers import TrainingArguments, Trainer\n",
    "import json\n",
    "\n",
    "model = AutoModelForSequenceClassification.from_pretrained(\"bert-base-cased\", num_labels=5)\n",
    "model_dir = \"/root/autodl-tmp/saved-models/bert-base-cased-finetune-yelp\"\n",
    "metric = evaluate.load(\"accuracy\")\n",
    "\n",
    "def compute_metrics(eval_pred):\n",
    "    logits, labels = eval_pred\n",
    "    predictions = np.argmax(logits, axis=-1)\n",
    "    return metric.compute(predictions=predictions, references=labels)\n",
    "\n",
    "\n",
    "training_args = TrainingArguments(output_dir=model_dir,\n",
    "                                  evaluation_strategy=\"no\",\n",
    "                                  logging_strategy='steps',\n",
    "                                  logging_steps=1000,\n",
    "                                  save_steps=1000,\n",
    "                                  per_device_train_batch_size=32,\n",
    "                                  num_train_epochs=3,\n",
    "                                  dataloader_num_workers=1,\n",
    "                                  fp16=True                                 )\n",
    "\n",
    "trainer = Trainer(\n",
    "    model=model,\n",
    "    args=training_args,\n",
    "    train_dataset=full_train_dataset,\n",
    "    eval_dataset=full_eval_dataset,\n",
    "    compute_metrics=compute_metrics,\n",
    ")\n",
    "\n",
    "print('training started!')\n",
    "# 如果由于异常中断，需要从checkpoint开始接着训练就这么写\n",
    "# trainer.train(resume_from_checkpoint=model_dir + '/checkpoint-30000')\n",
    "\n",
    "# 开始训练\n",
    "trainer.train()\n",
    "print('training finished!')\n",
    "\n",
    "# 训练完后第一时间保存\n",
    "print('saving...')\n",
    "trainer.save_model(model_dir)\n",
    "trainer.save_state()\n",
    "print('saved!')\n",
    "\n",
    "# 评估模型表现\n",
    "full_test_dataset = tokenized_datasets[\"test\"].shuffle(seed=64)\n",
    "eval_result = trainer.evaluate(full_test_dataset)\n",
    "\n",
    "# 结果写入文件\n",
    "with open(\"final_eval.txt\", \"w\", encoding=\"utf-8\") as file:\n",
    "    file.write(json.dumps(eval_result))\n",
    "\n",
    "print(eval_result)\n",
    "\n"
   ]
  }
 ],
 "metadata": {
  "kernelspec": {
   "display_name": "Python 3 (ipykernel)",
   "language": "python",
   "name": "python3"
  },
  "language_info": {
   "codemirror_mode": {
    "name": "ipython",
    "version": 3
   },
   "file_extension": ".py",
   "mimetype": "text/x-python",
   "name": "python",
   "nbconvert_exporter": "python",
   "pygments_lexer": "ipython3",
   "version": "3.10.8"
  }
 },
 "nbformat": 4,
 "nbformat_minor": 5
}
